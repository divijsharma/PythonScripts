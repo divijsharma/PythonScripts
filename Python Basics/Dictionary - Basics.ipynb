{
 "cells": [
  {
   "cell_type": "markdown",
   "metadata": {},
   "source": [
    "Dictionaries allow us to work with Key Value pairs. Dictionaries are also called as Hash Maps and Associative Arrays. \n",
    "\n",
    "Key is the unique identifier using which we can find our data. Value is the that data. A dictionary is created with {}"
   ]
  },
  {
   "cell_type": "code",
   "execution_count": 1,
   "metadata": {},
   "outputs": [],
   "source": [
    "# Defining an empty dictionary \n",
    "empty_dict = {}\n",
    "\n",
    "# Defining a dictionary student\n",
    "student = {'name': 'John',\n",
    "           'age': 25,\n",
    "           'courses': ['Maths', 'Physics']\n",
    "          }"
   ]
  },
  {
   "cell_type": "markdown",
   "metadata": {},
   "source": [
    "The values can be of any time. For example in courses, the value is a list. The values can again be a dictionary."
   ]
  },
  {
   "cell_type": "code",
   "execution_count": 2,
   "metadata": {},
   "outputs": [],
   "source": [
    "employee = {'id': 1,\n",
    "            'name': 'John',\n",
    "            'contact': {'mobile': 9434125684,\n",
    "                        'residence': 49234576\n",
    "                       }\n",
    "           }"
   ]
  },
  {
   "cell_type": "markdown",
   "metadata": {},
   "source": [
    "The Keys can be any immutable data type like string, int, float"
   ]
  },
  {
   "cell_type": "code",
   "execution_count": 3,
   "metadata": {},
   "outputs": [],
   "source": [
    "other_ex = {1: 'First Name',\n",
    "            2: 'Phone Number'\n",
    "           }"
   ]
  },
  {
   "cell_type": "markdown",
   "metadata": {},
   "source": [
    "# Getting the value of one key\n",
    "\n",
    "### Using []\n",
    "We can specify the key name in []. Using this method will give a KeyError if the key does not exist in the dictionary. "
   ]
  },
  {
   "cell_type": "code",
   "execution_count": 4,
   "metadata": {},
   "outputs": [
    {
     "name": "stdout",
     "output_type": "stream",
     "text": [
      "Getting values with correct Key\n",
      "John\n",
      "1\n",
      "***************************\n",
      "Getting all courses as list\n",
      "['Maths', 'Physics']\n",
      "***************************\n",
      "Getting 2nd course\n",
      "Physics\n",
      "***************************\n",
      "Getting all courses in loop\n",
      "Maths\n",
      "Physics\n",
      "***************************\n",
      "Getting dictionary within dictionary\n",
      "9434125684\n",
      "***************************\n",
      "Other immutable data type as Key\n",
      "First Name\n",
      "***************************\n"
     ]
    },
    {
     "ename": "KeyError",
     "evalue": "'score'",
     "output_type": "error",
     "traceback": [
      "\u001b[1;31m---------------------------------------------------------------------------\u001b[0m",
      "\u001b[1;31mKeyError\u001b[0m                                  Traceback (most recent call last)",
      "\u001b[1;32m<ipython-input-4-2e7aacd0eaff>\u001b[0m in \u001b[0;36m<module>\u001b[1;34m\u001b[0m\n\u001b[0;32m     21\u001b[0m \u001b[0mprint\u001b[0m\u001b[1;33m(\u001b[0m\u001b[1;34m'***************************'\u001b[0m\u001b[1;33m)\u001b[0m\u001b[1;33m\u001b[0m\u001b[1;33m\u001b[0m\u001b[0m\n\u001b[0;32m     22\u001b[0m \u001b[1;31m# Error for missing key value\u001b[0m\u001b[1;33m\u001b[0m\u001b[1;33m\u001b[0m\u001b[1;33m\u001b[0m\u001b[0m\n\u001b[1;32m---> 23\u001b[1;33m \u001b[0mprint\u001b[0m\u001b[1;33m(\u001b[0m\u001b[0mstudent\u001b[0m\u001b[1;33m[\u001b[0m\u001b[1;34m'score'\u001b[0m\u001b[1;33m]\u001b[0m\u001b[1;33m)\u001b[0m\u001b[1;33m\u001b[0m\u001b[1;33m\u001b[0m\u001b[0m\n\u001b[0m",
      "\u001b[1;31mKeyError\u001b[0m: 'score'"
     ]
    }
   ],
   "source": [
    "# Getting value from the key name\n",
    "print('Getting values with correct Key')\n",
    "print(student['name'])\n",
    "print(employee['id'])\n",
    "print('***************************')\n",
    "print('Getting all courses as list')\n",
    "print(student['courses'])\n",
    "print('***************************')\n",
    "print('Getting 2nd course')\n",
    "print(student['courses'][1])\n",
    "print('***************************')\n",
    "print('Getting all courses in loop')\n",
    "for i in range(len(student['courses'])):\n",
    "    print(student['courses'][i])\n",
    "print('***************************')\n",
    "print('Getting dictionary within dictionary')\n",
    "print(employee['contact']['mobile'])\n",
    "print('***************************')\n",
    "print('Other immutable data type as Key')\n",
    "print(other_ex[1])\n",
    "print('***************************')\n",
    "# Error for missing key value\n",
    "print(student['score'])"
   ]
  },
  {
   "cell_type": "markdown",
   "metadata": {},
   "source": [
    "## Getting the value of one key\n",
    "\n",
    "### Using get method\n",
    "To ensure that we do not get the KeyError we use get method. We can customize the default value returned if the key does not exist. "
   ]
  },
  {
   "cell_type": "code",
   "execution_count": 5,
   "metadata": {},
   "outputs": [
    {
     "name": "stdout",
     "output_type": "stream",
     "text": [
      "Getting the value with correct key\n",
      "John\n",
      "***************************\n",
      "Getting list from get method\n",
      "['Maths', 'Physics']\n",
      "***************************\n",
      "Getting the key which is not present. Default is None.\n",
      "None\n",
      "***************************\n",
      "Getting the key which is not present and specifying a custom error message\n",
      "This is custom Error Message\n",
      "***************************\n",
      "If the key is existing then the custom message is ignored\n",
      "John\n",
      "***************************\n"
     ]
    }
   ],
   "source": [
    "print('Getting the value with correct key')\n",
    "print(student.get('name'))\n",
    "print('***************************')\n",
    "print('Getting list from get method')\n",
    "print(student.get('courses'))\n",
    "print('***************************')\n",
    "print('Getting the key which is not present. Default is None.')\n",
    "print(student.get('score'))\n",
    "print('***************************')\n",
    "print('Getting the key which is not present and specifying a custom error message')\n",
    "print(student.get('score', 'This is custom Error Message'))\n",
    "print('***************************')\n",
    "print('If the key is existing then the custom message is ignored')\n",
    "print(student.get('name', 'Name not found'))\n",
    "print('***************************')"
   ]
  },
  {
   "cell_type": "markdown",
   "metadata": {},
   "source": [
    "## Getting the value of list or dictionary using get method\n",
    "\n",
    "The get method returns the same data type as the value of the key. In case the value is a list or dictionary then we will have to loop through the list/dictionary outside the get method"
   ]
  },
  {
   "cell_type": "code",
   "execution_count": 6,
   "metadata": {},
   "outputs": [
    {
     "name": "stdout",
     "output_type": "stream",
     "text": [
      "Getting 2nd course from get method\n",
      "Physics\n",
      "***************************\n",
      "Getting course list from get method in a loop\n",
      "Maths\n",
      "Physics\n",
      "***************************\n"
     ]
    }
   ],
   "source": [
    "print('Getting 2nd course from get method')\n",
    "print(student.get('courses')[1])\n",
    "print('***************************')\n",
    "print('Getting course list from get method in a loop')\n",
    "for i in range(len(student['courses'])):\n",
    "    print(student.get('courses')[i])    \n",
    "print('***************************')"
   ]
  },
  {
   "cell_type": "markdown",
   "metadata": {},
   "source": [
    "# Adding new key to dictionary, updating existing values, delete "
   ]
  },
  {
   "cell_type": "code",
   "execution_count": 7,
   "metadata": {},
   "outputs": [
    {
     "name": "stdout",
     "output_type": "stream",
     "text": [
      "Existing value\n",
      "{'name': 'John', 'age': 25, 'courses': ['Maths', 'Physics']}\n",
      "***************************\n",
      "Adding new keys to dictionary\n",
      "{'name': 'John', 'age': 25, 'courses': ['Maths', 'Physics'], 'phone': 9823452332}\n",
      "***************************\n",
      "Updating values of dictionary\n",
      "{'name': 'John Doe', 'age': 25, 'courses': ['Maths', 'Physics'], 'phone': 9823452332}\n",
      "***************************\n",
      "Adding and Updating using update method\n",
      "{'name': 'Mary', 'age': 30, 'courses': ['Maths', 'Physics'], 'phone': 9823452332, 'score': 100}\n",
      "***************************\n",
      "Deleting a key using del method\n",
      "{'name': 'Mary', 'age': 30, 'courses': ['Maths', 'Physics'], 'phone': 9823452332}\n",
      "***************************\n",
      "Deleting a key using pop method\n",
      "{'name': 'Mary', 'courses': ['Maths', 'Physics'], 'phone': 9823452332}\n",
      "30\n",
      "***************************\n"
     ]
    }
   ],
   "source": [
    "# Defining a dictionary student\n",
    "student = {'name': 'John',\n",
    "           'age': 25,\n",
    "           'courses': ['Maths', 'Physics']\n",
    "          }\n",
    "\n",
    "print('Existing value')\n",
    "print(student)\n",
    "print('***************************')\n",
    "print('Adding new keys to dictionary')\n",
    "student['phone'] = 9823452332\n",
    "print(student)\n",
    "print('***************************')\n",
    "print('Updating values of dictionary')\n",
    "student['name'] = 'John Doe'\n",
    "print(student)\n",
    "print('***************************')\n",
    "print('Adding and Updating using update method')\n",
    "student.update({'name':'Mary',\n",
    "                'age':30,\n",
    "                'score':100\n",
    "               })\n",
    "print(student)\n",
    "print('***************************')\n",
    "print('Deleting a key using del method')\n",
    "del student['score']\n",
    "print(student)\n",
    "print('***************************')\n",
    "print('Deleting a key using pop method')\n",
    "# pop method returns back the key that we are deleting\n",
    "age = student.pop('age')\n",
    "print(student)\n",
    "print(age)\n",
    "print('***************************')"
   ]
  },
  {
   "cell_type": "markdown",
   "metadata": {},
   "source": [
    "# Looping through the dictionary"
   ]
  },
  {
   "cell_type": "code",
   "execution_count": 8,
   "metadata": {},
   "outputs": [
    {
     "name": "stdout",
     "output_type": "stream",
     "text": [
      "Existing value\n",
      "{'name': 'John', 'age': 25, 'courses': ['Maths', 'Physics']}\n",
      "***************************\n",
      "Length of dictionary. Also the number of keys of the dictionary\n",
      "3\n",
      "***************************\n",
      "All keys of the dictionary. Note that the class is dict_keys\n",
      "dict_keys(['name', 'age', 'courses'])\n",
      "<class 'dict_keys'>\n",
      "name\n",
      "age\n",
      "courses\n",
      "***************************\n",
      "All values of the dictionary. Note that the class is dict_values\n",
      "dict_values(['John', 25, ['Maths', 'Physics']])\n",
      "<class 'dict_values'>\n",
      "John\n",
      "25\n",
      "['Maths', 'Physics']\n",
      "***************************\n",
      "All key value pairs of the dictionary\n",
      "dict_items([('name', 'John'), ('age', 25), ('courses', ['Maths', 'Physics'])])\n",
      "<class 'dict_items'>\n",
      "('name', 'John')\n",
      "('age', 25)\n",
      "('courses', ['Maths', 'Physics'])\n",
      "***************************\n",
      "Looping using for loop\n",
      "name John\n",
      "age 25\n",
      "courses ['Maths', 'Physics']\n",
      "***************************\n"
     ]
    }
   ],
   "source": [
    "student = {'name': 'John',\n",
    "           'age': 25,\n",
    "           'courses': ['Maths', 'Physics']\n",
    "          }\n",
    "print('Existing value')\n",
    "print(student)\n",
    "print('***************************')\n",
    "print('Length of dictionary. Also the number of keys of the dictionary')\n",
    "print(len(student))\n",
    "print('***************************')\n",
    "print('All keys of the dictionary. Note that the class is dict_keys')\n",
    "dict_keys = student.keys()\n",
    "list_dict_keys = list(dict_keys)\n",
    "print(dict_keys)\n",
    "print(type(dict_keys))\n",
    "for i in range(len(list_dict_keys)):\n",
    "    print(list_dict_keys[i])\n",
    "print('***************************')\n",
    "print('All values of the dictionary. Note that the class is dict_values')\n",
    "dict_values = student.values()\n",
    "list_dict_values = list(dict_values)\n",
    "print(dict_values)\n",
    "print(type(dict_values))\n",
    "for i in range(len(list_dict_values)):\n",
    "    print(list_dict_values[i])\n",
    "print('***************************')\n",
    "print('All key value pairs of the dictionary')\n",
    "all_items = student.items()\n",
    "list_all_items = list(all_items)\n",
    "print(all_items)\n",
    "print(type(all_items))\n",
    "for i in range(len(list_all_items)):\n",
    "    print(list_all_items[i])\n",
    "print('***************************')\n",
    "print('Looping using for loop')\n",
    "for key, value in student.items():\n",
    "    print(key, value)\n",
    "print('***************************')"
   ]
  },
  {
   "cell_type": "markdown",
   "metadata": {},
   "source": [
    "# Dictionary Comparison"
   ]
  },
  {
   "cell_type": "code",
   "execution_count": 9,
   "metadata": {},
   "outputs": [
    {
     "name": "stdout",
     "output_type": "stream",
     "text": [
      "Common keys between 2 dictionaries\n",
      "{'key2', 'key3', 'key1'}\n",
      "***************************\n",
      "Keys not common between 2 dictionaries\n",
      "{'key4'}\n",
      "***************************\n",
      "Keys not common in 2 dictionaries with the keys out of order\n",
      "{'key4'}\n",
      "***************************\n",
      "Keys not common between 2 dictionaries with dict1 before dict2 in statement\n",
      "dict2.keys() - dict1.keys(). This statement is read as which keys in dict1 are not in dict2.\n",
      "As all the keys in dict1 are a part of dict2, we get empty set\n",
      "set()\n",
      "***************************\n",
      "Get all unique keys from both dictionaries\n",
      "{'key2', 'key4', 'key3', 'key1'}\n",
      "***************************\n",
      "Get all items that are common in 2 dictionaries\n",
      "{('key1', 1000)}\n",
      "***************************\n",
      "Find difference in items of 2 dictionaries. The order of dictionaries in statement matters.\n",
      "{('key4', 4000), ('key2', 6000), ('key3', 7000)}\n",
      "***************************\n",
      "Get all unique items from both dictionaries\n",
      "{('key4', 4000), ('key2', 6000), ('key2', 2000), ('key1', 1000), ('key3', 3000), ('key3', 7000)}\n",
      "***************************\n",
      "Is one dictionary a subset of another dictionary\n",
      "Note that the values do not matter\n",
      "True\n",
      "True\n",
      "***************************\n",
      "Is one dictionary a subset of another dictionary\n",
      "True\n",
      "True\n",
      "***************************\n",
      "Is one dictionary a superset of another dictionary\n",
      "False\n",
      "True\n",
      "***************************\n",
      "Is one dictionary equal to another dictionary\n",
      "False\n",
      "False\n",
      "True\n",
      "False\n",
      "***************************\n"
     ]
    }
   ],
   "source": [
    "dict1 = {'key1': 1000, 'key2':2000, 'key3':3000}\n",
    "dict2 = {'key1': 1000, 'key2':6000, 'key3':7000, 'key4':4000}\n",
    "print('Common keys between 2 dictionaries')\n",
    "commkeys = dict1.keys() & dict2.keys()\n",
    "print(commkeys)\n",
    "print('***************************')\n",
    "print('Keys not common between 2 dictionaries')\n",
    "diffkeys = dict2.keys() - dict1.keys()\n",
    "print(diffkeys)\n",
    "print('***************************')\n",
    "print('Keys not common in 2 dictionaries with the keys out of order')\n",
    "dict3 = {'key1': 1000, 'key2':2000, 'key3':3000}\n",
    "dict4 = {'key4': 4000, 'key2':2000, 'key3':3000, 'key1':1000}\n",
    "diffkeys = dict4.keys() - dict3.keys()\n",
    "print(diffkeys)\n",
    "print('***************************')\n",
    "print('Keys not common between 2 dictionaries with dict1 before dict2 in statement')\n",
    "print('dict2.keys() - dict1.keys(). This statement is read as which keys in dict1 are not in dict2.')\n",
    "print('As all the keys in dict1 are a part of dict2, we get empty set')\n",
    "diffkeys = dict1.keys() - dict2.keys()\n",
    "print(diffkeys)\n",
    "print('***************************')\n",
    "print('Get all unique keys from both dictionaries')\n",
    "unikeys = dict1.keys() | dict2.keys()\n",
    "print(unikeys)\n",
    "print('***************************')\n",
    "print('Get all items that are common in 2 dictionaries')\n",
    "commitems = dict1.items() & dict2.items()\n",
    "print(commitems)\n",
    "print('***************************')\n",
    "print('Find difference in items of 2 dictionaries. The order of dictionaries in statement matters.')\n",
    "diffitems = dict2.items() - dict1.items()\n",
    "print(diffitems)\n",
    "print('***************************')\n",
    "print('Get all unique items from both dictionaries')\n",
    "uniitems = dict1.items() | dict2.items()\n",
    "print(uniitems)\n",
    "print('***************************')\n",
    "print('Is one dictionary a subset of another dictionary')\n",
    "print('Note that the values do not matter')\n",
    "print(set(dict3) <= set(dict4))\n",
    "print(set(dict1) <= set(dict2))\n",
    "print('***************************')\n",
    "print('Is one dictionary a subset of another dictionary')\n",
    "print(set(dict3) <= set(dict4))\n",
    "print(set(dict1) <= set(dict2))\n",
    "print('***************************')\n",
    "print('Is one dictionary a superset of another dictionary')\n",
    "print(set(dict3) >= set(dict4))\n",
    "print(set(dict2) >= set(dict1))\n",
    "print('***************************')\n",
    "print('Is one dictionary equal to another dictionary')\n",
    "print(dict1 == dict2)\n",
    "print(dict3 == dict4)\n",
    "print(dict1 == dict3)\n",
    "print(dict2 == dict4)\n",
    "print('***************************')"
   ]
  }
 ],
 "metadata": {
  "kernelspec": {
   "display_name": "Python 3",
   "language": "python",
   "name": "python3"
  },
  "language_info": {
   "codemirror_mode": {
    "name": "ipython",
    "version": 3
   },
   "file_extension": ".py",
   "mimetype": "text/x-python",
   "name": "python",
   "nbconvert_exporter": "python",
   "pygments_lexer": "ipython3",
   "version": "3.7.3"
  }
 },
 "nbformat": 4,
 "nbformat_minor": 2
}
