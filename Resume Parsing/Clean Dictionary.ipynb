{
 "cells": [
  {
   "cell_type": "markdown",
   "metadata": {},
   "source": [
    "The code is to clean the dictionary file downloaded from https://sourceforge.net/p/mysqlenglishdictionary/code/ci/master/tree/.\n",
    "\n",
    "### Imports"
   ]
  },
  {
   "cell_type": "code",
   "execution_count": null,
   "metadata": {},
   "outputs": [],
   "source": [
    "import re\n",
    "import urllib3"
   ]
  },
  {
   "cell_type": "markdown",
   "metadata": {},
   "source": [
    "### Read the raw dictionary file"
   ]
  },
  {
   "cell_type": "code",
   "execution_count": null,
   "metadata": {},
   "outputs": [],
   "source": [
    "dict_url = 'https://raw.githubusercontent.com/divijsharma/PythonScripts/master/Resume%20Project/Dictionary.txt'\n",
    "http = urllib3.PoolManager()\n",
    "response = http.request('GET', dict_url)\n",
    "dict_data = response.data.decode('utf-8')"
   ]
  },
  {
   "cell_type": "markdown",
   "metadata": {},
   "source": [
    "### Clean up raw dictionary"
   ]
  },
  {
   "cell_type": "code",
   "execution_count": null,
   "metadata": {},
   "outputs": [],
   "source": [
    "# Removing the characters \\n\n",
    "test_dict = dictionary.replace(\"\\\\n\", \" \")\n",
    "\n",
    "# Removing words that end in \".\" including the ones at the end of sentence. \n",
    "test_dict = re.sub(r'([a-zA-Z0-9]+\\.)', ' ', test_dict)\n",
    "\n",
    "# Remove the words with only one character - considering both the cases\n",
    "test_dict = re.sub(r'\\b(\\w)\\b', ' ', test_dict)\n",
    "\n",
    "# Remove the words that end with \"-\" irrespective of case\n",
    "test_dict = re.sub(r'([a-zA-Z0-9]+-)', ' ', test_dict)\n",
    "\n",
    "# Remove the words that begin with \"-\" irrespective of case\n",
    "test_dict = re.sub(r'(?<=\\s)-\\S+', ' ', test_dict)\n",
    "\n",
    "# Remove numbers\n",
    "test_dict = re.sub(r'\\d+', ' ', test_dict)\n",
    "\n",
    "# Remove the punctuaiton\n",
    "test_dict = re.sub(r'[^a-zA-Z0-9\\s]', ' ', test_dict)\n",
    "\n",
    "# Remove consecutive whitespaces\n",
    "test_dict = re.sub(' +', ' ',test_dict)\n",
    "\n",
    "# Convert all the words that have only first letter as uppercase to all lower case example - \"Test\" will be converted to \"test\"\n",
    "# \"TEST\" will not be converted\n",
    "for w in re.findall(r'[A-Z][a-z]+', test_dict):\n",
    "    test_dict = test_dict.replace(w, w.lower())"
   ]
  },
  {
   "cell_type": "markdown",
   "metadata": {},
   "source": [
    "### Get the list of unique words from clean data"
   ]
  },
  {
   "cell_type": "code",
   "execution_count": null,
   "metadata": {},
   "outputs": [],
   "source": [
    "unique_words = set(dict_data.split())"
   ]
  },
  {
   "cell_type": "markdown",
   "metadata": {},
   "source": [
    "### Write unique words in disk"
   ]
  },
  {
   "cell_type": "code",
   "execution_count": null,
   "metadata": {},
   "outputs": [],
   "source": [
    "with open('./Spell Checker/my_dict.txt', 'w') as my_dict_file:\n",
    "    for word in unique_words:\n",
    "        my_dict_file.write(\"{}\\n\".format(word))"
   ]
  }
 ],
 "metadata": {
  "kernelspec": {
   "display_name": "Python 3",
   "language": "python",
   "name": "python3"
  },
  "language_info": {
   "codemirror_mode": {
    "name": "ipython",
    "version": 3
   },
   "file_extension": ".py",
   "mimetype": "text/x-python",
   "name": "python",
   "nbconvert_exporter": "python",
   "pygments_lexer": "ipython3",
   "version": "3.6.5"
  }
 },
 "nbformat": 4,
 "nbformat_minor": 2
}
