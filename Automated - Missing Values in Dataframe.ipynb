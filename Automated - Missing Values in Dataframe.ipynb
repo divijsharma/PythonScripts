{
 "cells": [
  {
   "cell_type": "code",
   "execution_count": null,
   "metadata": {},
   "outputs": [],
   "source": [
    "def find_missing_values(df):\n",
    "    # Total missing values\n",
    "    total_mis_vals = df.isnull().sum()\n",
    "\n",
    "    # Percentage of missing values\n",
    "    total_mis_vals_percent = 100 * df.isnull().sum() / len(df)\n",
    "        \n",
    "    # Make a table with the results\n",
    "    mis_val_df = pd.concat([total_mis_vals, total_mis_vals_percent], axis=1)\n",
    "    \n",
    "    # Rename the columns\n",
    "    mis_val_df_columns = mis_val_df.rename(columns = {0 : 'Missing Values', 1 : '% of Total Values'})\n",
    "\n",
    "    # Sort the table by percentage of missing descending\n",
    "    mis_val_df_columns = mis_val_df_columns[mis_val_df_columns.iloc[:,1] != 0].sort_values('% of Total Values', ascending=False).round(2)\n",
    "\n",
    "    # Return the dataframe with missing information\n",
    "    return mis_val_df_columns"
   ]
  },
  {
   "cell_type": "code",
   "execution_count": null,
   "metadata": {},
   "outputs": [],
   "source": [
    "miss_vals = find_missing_values(df_with_missing_values)\n",
    "print('Total number of columns', df_with_missing_values.shape[1])\n",
    "print('Number of columns with missing values', miss_vals.shape[0])"
   ]
  }
 ],
 "metadata": {
  "kernelspec": {
   "display_name": "Python 3",
   "language": "python",
   "name": "python3"
  },
  "language_info": {
   "codemirror_mode": {
    "name": "ipython",
    "version": 3
   },
   "file_extension": ".py",
   "mimetype": "text/x-python",
   "name": "python",
   "nbconvert_exporter": "python",
   "pygments_lexer": "ipython3",
   "version": "3.6.6"
  }
 },
 "nbformat": 4,
 "nbformat_minor": 2
}
