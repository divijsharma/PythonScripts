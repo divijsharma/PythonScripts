{
 "cells": [
  {
   "cell_type": "markdown",
   "metadata": {},
   "source": [
    "#### Pending\n",
    "1. Processing docx file<br>\n",
    "2. Implementing peter norvig spell checker<br>\n",
    "   - In addition to brown dictionary? Or Brown dictionary is to be removed?<br>\n",
    "   \n",
    "#### Configuration file\n",
    "1. The resume file<br>\n",
    "2. The extra words file<br>\n",
    "3. Temporary resume file<br>"
   ]
  },
  {
   "cell_type": "markdown",
   "metadata": {},
   "source": [
    "## Imports"
   ]
  },
  {
   "cell_type": "code",
   "execution_count": null,
   "metadata": {},
   "outputs": [],
   "source": [
    "# Brown dictionary\n",
    "from nltk.corpus import brown\n",
    "from nltk.corpus import stopwords\n",
    "from nltk.tokenize import word_tokenize\n",
    "# For punctuation marks\n",
    "import string\n",
    "# For reading docx file\n",
    "try:\n",
    "    from xml.etree.cElementTree import XML\n",
    "except ImportError:\n",
    "    from xml.etree.ElementTree import XML\n",
    "import zipfile\n",
    "# For reading pdf file\n",
    "import PyPDF2\n",
    "# For regular expression\n",
    "import re\n",
    "from docx import Document"
   ]
  },
  {
   "cell_type": "markdown",
   "metadata": {},
   "source": [
    "## Reading inbuilt dictionary"
   ]
  },
  {
   "cell_type": "code",
   "execution_count": null,
   "metadata": {},
   "outputs": [],
   "source": [
    "valid_word_set = set(brown.words())"
   ]
  },
  {
   "cell_type": "markdown",
   "metadata": {},
   "source": [
    "## Read the configuration file that has path of resume, extra dictionary and temporary resume file"
   ]
  },
  {
   "cell_type": "code",
   "execution_count": null,
   "metadata": {},
   "outputs": [],
   "source": [
    "config_file = open(file='./Resume/Resume - Config.txt', mode='r')\n",
    "for line in config_file:\n",
    "    if line[:7] == 'resume=':\n",
    "        resume_path = line[7:]\n",
    "        # Removing new line character from the end\n",
    "        resume_path = re.sub(r'[\\n\\r]+$', '', resume_path)\n",
    "        # Find the type of resume file\n",
    "        index_of_last_dot = resume_path.rfind(\".\")\n",
    "        resume_type = resume_path[index_of_last_dot+1:]\n",
    "\n",
    "    if line[:7] == 'exdict=':\n",
    "        extra_dict_path = line[7:]\n",
    "        # Removing new line character from the end\n",
    "        extra_dict_path = re.sub(r'[\\n\\r]+$', '', extra_dict_path)\n",
    "\n",
    "    if line[:7] == 'tempre=':\n",
    "        temp_resume_txt_path = line[7:]\n",
    "        # Removing new line character from the end\n",
    "        temp_resume_txt_path = re.sub(r'[\\n\\r]+$', '', temp_resume_txt_path)"
   ]
  },
  {
   "cell_type": "markdown",
   "metadata": {},
   "source": [
    "## Read extra words files"
   ]
  },
  {
   "cell_type": "code",
   "execution_count": null,
   "metadata": {},
   "outputs": [],
   "source": [
    "with open(file=extra_dict_path, mode='r') as extra_dict_file:\n",
    "    extra_dict = set(extra_dict_file.read().split())\n",
    "\n",
    "# Union of 2 dictionaries\n",
    "final_good_word_list = extra_dict | valid_word_set"
   ]
  },
  {
   "cell_type": "markdown",
   "metadata": {},
   "source": [
    "## Read resume file based on the extension"
   ]
  },
  {
   "cell_type": "code",
   "execution_count": null,
   "metadata": {},
   "outputs": [],
   "source": [
    "if resume_type == \"txt\":\n",
    "    with open(file=resume_path, mode='r') as resume_file:\n",
    "        resume_words = resume_file.read()\n",
    "        \n",
    "if resume_type == \"pdf\":\n",
    "    print('Reading pdf file')\n",
    "    with open(file=resume_path, mode='rb') as pdf_resume, open(file=temp_resume_txt_path, mode='w') as temp_txt_resume:\n",
    "        read_pdf = PyPDF2.PdfFileReader(pdf_resume)\n",
    "        total_pages = read_pdf.getNumPages()\n",
    "        \n",
    "        for page_number in range(total_pages):\n",
    "            page = read_pdf.getPage(page_number)\n",
    "            page_content = page.extractText()\n",
    "            temp_txt_resume.write(page_content)\n",
    "           \n",
    "    with open(file=temp_resume_txt_path, mode='r') as temp_txt_resume:\n",
    "        resume_words = temp_txt_resume.read()\n",
    "        \n",
    "#if resume_type == \"docx\" - The logic is pending"
   ]
  },
  {
   "cell_type": "markdown",
   "metadata": {},
   "source": [
    "## Clean resume"
   ]
  },
  {
   "cell_type": "code",
   "execution_count": null,
   "metadata": {},
   "outputs": [],
   "source": [
    "# Removing numbers\n",
    "resume_words = re.sub(r'\\d+', '', resume_words)\n",
    "# Removing punctuations\n",
    "resume_words = re.sub(r'[^a-zA-Z0-9\\s]', ' ', resume_words)\n",
    "# Removing extra new lines and tab\n",
    "resume_words = re.sub(r\"[\\n\\t]*\", \"\", resume_words)\n",
    "# Convert all the words that have only first letter as uppercase to all lower case example - \"Test\" will be converted to \"test\"\n",
    "# \"TEST\" will not be converted\n",
    "for w in re.findall(r'[A-Z][a-z]+', resume_words):\n",
    "    resume_words = resume_words.replace(w, w.lower())"
   ]
  },
  {
   "cell_type": "markdown",
   "metadata": {},
   "source": [
    "## Word tokenization and remove stop words"
   ]
  },
  {
   "cell_type": "code",
   "execution_count": null,
   "metadata": {},
   "outputs": [],
   "source": [
    "tokenized_words = word_tokenize(resume_words)\n",
    "# Remove Stopwords\n",
    "stop_words = set(stopwords.words(\"english\"))\n",
    "tokenized_words = [w for w in tokenized_words if not w in stop_words]"
   ]
  },
  {
   "cell_type": "markdown",
   "metadata": {},
   "source": [
    "## Find spelling mistake"
   ]
  },
  {
   "cell_type": "code",
   "execution_count": null,
   "metadata": {},
   "outputs": [],
   "source": [
    "wrong_spelling = []\n",
    "\n",
    "wrong_spelling = [w for w in tokenized_words if not w in final_good_word_list]\n",
    "# Converting the list to set to eliminate duplicates\n",
    "wrong_spelling_set = set(wrong_spelling)\n",
    "\n",
    "print(\"Total number of spelling errors = \", len(wrong_spelling_set))"
   ]
  }
 ],
 "metadata": {
  "kernelspec": {
   "display_name": "Python 3",
   "language": "python",
   "name": "python3"
  },
  "language_info": {
   "codemirror_mode": {
    "name": "ipython",
    "version": 3
   },
   "file_extension": ".py",
   "mimetype": "text/x-python",
   "name": "python",
   "nbconvert_exporter": "python",
   "pygments_lexer": "ipython3",
   "version": "3.6.5"
  }
 },
 "nbformat": 4,
 "nbformat_minor": 2
}
