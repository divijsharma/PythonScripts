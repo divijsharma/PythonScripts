{
 "cells": [
  {
   "cell_type": "markdown",
   "metadata": {},
   "source": [
    "# Virtual Environment in Ubuntu Machine"
   ]
  },
  {
   "cell_type": "markdown",
   "metadata": {},
   "source": [
    "### Creating Virtual Environment\n",
    "1. Install virtualenv\n",
    "```python \n",
    "pip install virtualenv\n",
    "```\n",
    "2. Create a New project\n",
    "```python\n",
    "mkproject --python=python<version> <name of project>\n",
    "```\n",
    "Example\n",
    "```python\n",
    "mkproject --python=python3.6 myproject\n",
    "```\n",
    "3. Activate the virtual environment\n",
    "```python\n",
    "workon <name>\n",
    "```\n",
    "4. Install all the required packages in the virtual environment\n",
    "5. Deactivate the virtual environment\n",
    "```python\n",
    "deactivate <name> \n",
    "```"
   ]
  },
  {
   "cell_type": "markdown",
   "metadata": {},
   "source": [
    "### Getting the list of installed packages in the environment\n",
    "```python\n",
    "pip list\n",
    "```"
   ]
  },
  {
   "cell_type": "markdown",
   "metadata": {},
   "source": [
    "### Creating requirements.txt for installing the same packages to a different environment\n",
    "1. Create the requirements.txt file\n",
    "```python\n",
    "pip freeze>requirements.txt\n",
    "```\n",
    "2. Copy the above file to new environment\n",
    "3. Deactivate the current environment and activate the new environment\n",
    "4. Install packages using the requirements.txt\n",
    "```python\n",
    "pip install -r requirements.txt\n",
    "```"
   ]
  },
  {
   "cell_type": "markdown",
   "metadata": {},
   "source": [
    "### Working with PyCharm and pointing to a virtual environment\n",
    "1. File -> Settings -> Project:<name> -> Project Interpreter\n",
    "2. Click on Gear Icon\n",
    "3. Click on Add\n",
    "4. Click on Virtualenv Environment\n",
    "5. Select Existing Environment (You should have already created virtal environment and installed all the necessary packages)\n",
    "6. Click on 3 dots in Interpreter (...)\n",
    "7. Select /home/<user>/Envs/<projectname>/bin/python<version> example - /home/divij/Envs/ithelpdesk/bin/python3.6\n",
    "8. Save the settings\n",
    "9. Run the code"
   ]
  },
  {
   "cell_type": "markdown",
   "metadata": {},
   "source": [
    "### Working with Jupyter Notebook and pointing to a virtual environment\n",
    "1. In the terminal activate the virtual environment\n",
    "```python\n",
    "workon <name>\n",
    "```\n",
    "2. Install Jupyter Notebook\n",
    "```python\n",
    "pip install jupyter\n",
    "```\n",
    "3. Start the Jupyter Notebook\n",
    "```python\n",
    "jupyter notebook\n",
    "```"
   ]
  }
 ],
 "metadata": {
  "kernelspec": {
   "display_name": "Python 3",
   "language": "python",
   "name": "python3"
  },
  "language_info": {
   "codemirror_mode": {
    "name": "ipython",
    "version": 3
   },
   "file_extension": ".py",
   "mimetype": "text/x-python",
   "name": "python",
   "nbconvert_exporter": "python",
   "pygments_lexer": "ipython3",
   "version": "3.6.7"
  }
 },
 "nbformat": 4,
 "nbformat_minor": 2
}
